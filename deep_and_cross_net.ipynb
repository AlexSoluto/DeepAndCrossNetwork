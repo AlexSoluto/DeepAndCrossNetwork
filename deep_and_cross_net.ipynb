{
 "cells": [
  {
   "cell_type": "markdown",
   "metadata": {},
   "source": [
    "# Deep and Cross Network\n",
    "## Pytorch implementation based on the paper arxiv.org/abs/1708.05123"
   ]
  },
  {
   "cell_type": "code",
   "execution_count": 1,
   "metadata": {},
   "outputs": [],
   "source": [
    "import yaml\n",
    "import torch\n",
    "from torch.autograd import Variable\n",
    "import torch.nn as nn\n",
    "import torch.nn.functional as F\n",
    "import pandas as pd\n",
    "import torch.optim as optim\n",
    "import torch.onnx\n",
    "import numpy as np\n",
    "from sklearn.metrics import roc_auc_score\n",
    "import os\n",
    "import time\n",
    "from torchvision.transforms import *\n",
    "from tqdm import tqdm, tqdm_notebook, tnrange\n",
    "import matplotlib.pyplot as plt\n",
    "\n",
    "SEED = 123\n",
    "np.random.seed(SEED)\n",
    "torch.manual_seed(SEED)\n",
    "\n",
    "%matplotlib inline"
   ]
  },
  {
   "cell_type": "code",
   "execution_count": 2,
   "metadata": {},
   "outputs": [],
   "source": [
    "with open(\"data_config.yml\", 'r') as ymlfile:\n",
    "    cfg = yaml.load(ymlfile)\n",
    "filename = cfg['filename']\n",
    "x_col_cat = cfg['features']['categorical']\n",
    "x_col_con = cfg['features']['continuous']\n",
    "y_col = cfg['features']['label']\n",
    "w_col = cfg['features']['weight']"
   ]
  },
  {
   "cell_type": "code",
   "execution_count": 3,
   "metadata": {},
   "outputs": [
    {
     "name": "stdout",
     "output_type": "stream",
     "text": [
      "dataset size: (1000000, 67)\n",
      "ctr = 0.00980\n"
     ]
    }
   ],
   "source": [
    "nrows=1e6\n",
    "df = pd.read_csv(filename, nrows=nrows)\n",
    "print(\"dataset size: %s\"%str(df.shape))\n",
    "print(\"ctr = %.5f\"%((df[y_col]*df[w_col]).sum()*1./df[w_col].sum()))"
   ]
  },
  {
   "cell_type": "code",
   "execution_count": 4,
   "metadata": {},
   "outputs": [],
   "source": [
    "def merge_2_cols(arr):\n",
    "    arr = arr.astype(str)\n",
    "    vals = (arr[:,0].astype(object)+'_'+arr[:,1].astype(object))\n",
    "    return vals"
   ]
  },
  {
   "cell_type": "code",
   "execution_count": 5,
   "metadata": {},
   "outputs": [],
   "source": [
    "cat_features =[]\n",
    "for f in x_col_cat:\n",
    "    if(isinstance(f, str)==False):\n",
    "        df[list(f.keys())[0]] = merge_2_cols(df[list(f.values())[0]].values)\n",
    "        cat_features.append(list(f.keys())[0])\n",
    "    else:\n",
    "        cat_features.append(f)"
   ]
  },
  {
   "cell_type": "markdown",
   "metadata": {},
   "source": [
    "### Encoding"
   ]
  },
  {
   "cell_type": "code",
   "execution_count": 6,
   "metadata": {},
   "outputs": [],
   "source": [
    "def binary_encode(s, modulo, required_bits=8):\n",
    "    num = hash(s) % modulo\n",
    "    return np.array(list(np.binary_repr(num).zfill(required_bits))).astype(np.int8)\n",
    "\n",
    "def hashing_trick(s, modulo):\n",
    "    num = hash(s) % modulo\n",
    "    arr = np.zeros((modulo)).astype(np.int8)\n",
    "    arr[num] = 1\n",
    "    return arr\n",
    "\n",
    "def get_sparse_index(s, modulo):\n",
    "    return hash(s) % modulo"
   ]
  },
  {
   "cell_type": "markdown",
   "metadata": {},
   "source": [
    "Combine columns"
   ]
  },
  {
   "cell_type": "code",
   "execution_count": 7,
   "metadata": {},
   "outputs": [],
   "source": [
    "df = df[cat_features + x_col_con + [y_col] + [w_col]]"
   ]
  },
  {
   "cell_type": "markdown",
   "metadata": {},
   "source": [
    "Here we represent categorical features as sparse index. In production system this encoding can be done by maintaining a map of unique values per feature. A Bloom filter can be used to track each value on the fly by checking whether a specific value exists and update the counters accordingly"
   ]
  },
  {
   "cell_type": "code",
   "execution_count": 8,
   "metadata": {},
   "outputs": [
    {
     "name": "stderr",
     "output_type": "stream",
     "text": [
      "100%|██████████| 4/4 [00:02<00:00,  1.36it/s]\n"
     ]
    }
   ],
   "source": [
    "b_x_col_cat = []\n",
    "logs = []\n",
    "modulos = []\n",
    "for col in tqdm(cat_features):\n",
    "    bits = int(np.ceil(np.log2(df[col].nunique())))\n",
    "    modulos.append(df[col].nunique()+1)\n",
    "    b_x_col_cat.append('b_'+col)\n",
    "    df[b_x_col_cat[-1]] = df[col].apply(get_sparse_index, modulo=modulos[-1])#, required_bits=bits)\n",
    "df.drop(columns=cat_features, inplace=True)"
   ]
  },
  {
   "cell_type": "code",
   "execution_count": 9,
   "metadata": {},
   "outputs": [],
   "source": [
    "x_cols = [c for c in df.columns if (c != 'clicks') and (c != 'impressions')]"
   ]
  },
  {
   "cell_type": "code",
   "execution_count": 10,
   "metadata": {},
   "outputs": [
    {
     "name": "stdout",
     "output_type": "stream",
     "text": [
      "x_dense: (1000000, 4) x_sparse: (1000000, 4) y: (1000000,) w: (1000000,)\n"
     ]
    }
   ],
   "source": [
    "x_dense = np.array(df[x_cols[:4]])\n",
    "x_sparse = np.array(df[x_cols[4:]])\n",
    "x = np.concatenate([x_dense, x_sparse], axis=1)\n",
    "y, w = np.array(df[y_col]), np.array(df[w_col])\n",
    "print(\"x_dense: %s x_sparse: %s y: %s w: %s\"%(x_dense.shape, x_sparse.shape, y.shape, w.shape))\n",
    "del df"
   ]
  },
  {
   "cell_type": "markdown",
   "metadata": {},
   "source": [
    "### Prepare data for pytorch and split"
   ]
  },
  {
   "cell_type": "code",
   "execution_count": 11,
   "metadata": {},
   "outputs": [],
   "source": [
    "x = torch.FloatTensor(x)\n",
    "y = torch.FloatTensor(y)\n",
    "w = torch.FloatTensor(w)"
   ]
  },
  {
   "cell_type": "code",
   "execution_count": 12,
   "metadata": {},
   "outputs": [
    {
     "name": "stdout",
     "output_type": "stream",
     "text": [
      "num obs train 600000\n",
      "num obs val 400000\n"
     ]
    }
   ],
   "source": [
    "n, m = x.shape\n",
    "randvec = torch.randperm(n)\n",
    "x_train, x_val = torch.split(x[randvec],(n*3)//5, 0)\n",
    "y_train, y_val = torch.split(y[randvec],(n*3)//5, 0)\n",
    "w_train, w_val = torch.split(w[randvec],(n*3)//5, 0)\n",
    "\n",
    "print(\"num obs train %d\\nnum obs val %d\"%(x_train.shape[0], x_val.shape[0]))"
   ]
  },
  {
   "cell_type": "code",
   "execution_count": 13,
   "metadata": {},
   "outputs": [],
   "source": [
    "x_train = Variable(x_train)\n",
    "x_val = Variable(x_val)\n",
    "y_train = Variable(y_train)\n",
    "y_val = Variable(y_val)"
   ]
  },
  {
   "cell_type": "markdown",
   "metadata": {},
   "source": [
    "## Build Model"
   ]
  },
  {
   "cell_type": "markdown",
   "metadata": {},
   "source": [
    "### Define Hyperparameters"
   ]
  },
  {
   "cell_type": "code",
   "execution_count": 14,
   "metadata": {},
   "outputs": [],
   "source": [
    "m_embed = 10\n",
    "units = 200\n",
    "dense_col = torch.LongTensor(list(range(0, 4)))\n",
    "sparse_col = torch.LongTensor(list(range(4, m)))\n",
    "m_sparse = sparse_col.size()[0]\n",
    "m_dense = dense_col.size()[0]"
   ]
  },
  {
   "cell_type": "markdown",
   "metadata": {},
   "source": [
    "### Define Network layers"
   ]
  },
  {
   "cell_type": "code",
   "execution_count": 15,
   "metadata": {},
   "outputs": [],
   "source": [
    "class fullDCN(nn.Module):\n",
    "    def __init__(self, embedding_sizes):\n",
    "        super().__init__()\n",
    "        self.embedding_layers = nn.ModuleList()\n",
    "        for embed_size in embedding_sizes:\n",
    "            self.embedding_layers.append(nn.Embedding(embed_size, m_embed))\n",
    "        cross_layer_size = m_dense+(m_embed*m_sparse)\n",
    "        #deep network layers\n",
    "        self.fc1 = nn.Linear(cross_layer_size, units, bias=True)\n",
    "        self.fc1_bn = nn.BatchNorm1d(units)\n",
    "        self.fc2 = nn.Linear(units, units, bias=True)\n",
    "        self.fc2_bn = nn.BatchNorm1d(units)\n",
    "        self.fc3 = nn.Linear(units, units, bias=True)\n",
    "        #cross network layers\n",
    "        self.cl1 = nn.Linear(cross_layer_size, cross_layer_size, bias=True)\n",
    "        self.cl1_bn = nn.BatchNorm1d(cross_layer_size)\n",
    "        self.cl2 = nn.Linear(cross_layer_size, cross_layer_size, bias=True)\n",
    "        self.cl2_bn = nn.BatchNorm1d(cross_layer_size)\n",
    "        self.cl3 = nn.Linear(cross_layer_size, cross_layer_size, bias=True)\n",
    "        #combination layer\n",
    "        self.CombLayer = nn.Linear(units+cross_layer_size, 1, bias=False)\n",
    "        #output\n",
    "        self.output = nn.Sigmoid()\n",
    "\n",
    "    def forward(self, x):\n",
    "        x_sparse = x[:,sparse_col].long()\n",
    "        x_dense = x[:,dense_col]\n",
    "        for sparse_feature in range(m_sparse):\n",
    "            new_embed = self.embedding_layers[sparse_feature](x_sparse[:, sparse_feature])\n",
    "            if(sparse_feature==0):\n",
    "                x_embed = new_embed\n",
    "            else:\n",
    "                x_embed = torch.cat([x_embed, new_embed], dim=1)\n",
    "        x0 = torch.cat([x_embed, x_dense], dim=1)\n",
    "        \n",
    "        x = F.relu(self.fc1_bn(self.fc1(x0)))\n",
    "        x = F.relu(self.fc2_bn(self.fc2(x)))\n",
    "        x = F.relu(self.fc3(x))\n",
    "        \n",
    "        x_l1 = self.cl1(x0)\n",
    "        x1 = x0 * x_l1 + x0\n",
    "        x_l2 = self.cl2(x1)\n",
    "        x2 = x0 * x_l2 + x1\n",
    "        x_l3 = self.cl3(x1)\n",
    "        x3 = x0 * x_l3 + x2\n",
    "        \n",
    "        x_final = torch.cat([x, x3], dim=1)\n",
    "        result = self.CombLayer(x_final)\n",
    "        y = self.output(result)\n",
    "        return y"
   ]
  },
  {
   "cell_type": "markdown",
   "metadata": {},
   "source": [
    "### Define Model parameters"
   ]
  },
  {
   "cell_type": "code",
   "execution_count": 26,
   "metadata": {},
   "outputs": [
    {
     "name": "stdout",
     "output_type": "stream",
     "text": [
      "fullDCN(\n",
      "  (embedding_layers): ModuleList(\n",
      "    (0): Embedding(12, 10)\n",
      "    (1): Embedding(19, 10)\n",
      "    (2): Embedding(46, 10)\n",
      "    (3): Embedding(121, 10)\n",
      "  )\n",
      "  (fc1): Linear(in_features=44, out_features=200, bias=True)\n",
      "  (fc1_bn): BatchNorm1d(200, eps=1e-05, momentum=0.1, affine=True, track_running_stats=True)\n",
      "  (fc2): Linear(in_features=200, out_features=200, bias=True)\n",
      "  (fc2_bn): BatchNorm1d(200, eps=1e-05, momentum=0.1, affine=True, track_running_stats=True)\n",
      "  (fc3): Linear(in_features=200, out_features=200, bias=True)\n",
      "  (cl1): Linear(in_features=44, out_features=44, bias=True)\n",
      "  (cl1_bn): BatchNorm1d(44, eps=1e-05, momentum=0.1, affine=True, track_running_stats=True)\n",
      "  (cl2): Linear(in_features=44, out_features=44, bias=True)\n",
      "  (cl2_bn): BatchNorm1d(44, eps=1e-05, momentum=0.1, affine=True, track_running_stats=True)\n",
      "  (cl3): Linear(in_features=44, out_features=44, bias=True)\n",
      "  (CombLayer): Linear(in_features=244, out_features=1, bias=False)\n",
      "  (output): Sigmoid()\n",
      ")\n"
     ]
    }
   ],
   "source": [
    "DCNnet = fullDCN(modulos)\n",
    "print(DCNnet)"
   ]
  },
  {
   "cell_type": "code",
   "execution_count": 31,
   "metadata": {},
   "outputs": [
    {
     "name": "stdout",
     "output_type": "stream",
     "text": [
      "Model parameters:\n",
      "criterion:\n",
      "BCELoss()\n",
      "optimizer:\n",
      "Adam (\n",
      "Parameter Group 0\n",
      "    amsgrad: False\n",
      "    betas: (0.9, 0.999)\n",
      "    eps: 1e-08\n",
      "    lr: 0.001\n",
      "    weight_decay: 0\n",
      ")\n",
      "epochs: 2\n",
      "batch_size: 131072\n",
      "num_batches: 4\n"
     ]
    }
   ],
   "source": [
    "criterion = nn.BCELoss()\n",
    "optimizer = optim.Adam(DCNnet.parameters(), lr=.001)\n",
    "# optimizer = torch.optim.SGD(DCNnet.parameters(), lr=0.01, momentum=1.2)\n",
    "epochs = 2\n",
    "batch_size = 2**17\n",
    "num_batches = int(len(y_train)//batch_size)\n",
    "print(\"Model parameters:\")\n",
    "print(\"criterion:\\n%s\"%str(criterion))\n",
    "print(\"optimizer:\\n%s\"%str(optimizer))\n",
    "print(\"epochs: %d\"%epochs)\n",
    "print(\"batch_size: %d\"%batch_size)\n",
    "print(\"num_batches: %d\"%num_batches)"
   ]
  },
  {
   "cell_type": "markdown",
   "metadata": {},
   "source": [
    "## Run the model"
   ]
  },
  {
   "cell_type": "code",
   "execution_count": 32,
   "metadata": {},
   "outputs": [
    {
     "name": "stdout",
     "output_type": "stream",
     "text": [
      "e:  1/ 2, b:  1/ 4, tr_loss=2.930, val_loss=0.759, auc=0.593, cal=13.386, 10.28s\n",
      "e:  1/ 2, b:  2/ 4, tr_loss=1.155, val_loss=0.681, auc=0.606, cal=10.215, 10.15s\n",
      "e:  1/ 2, b:  3/ 4, tr_loss=0.613, val_loss=0.617, auc=0.622, cal=7.704, 10.12s\n",
      "e:  1/ 2, b:  4/ 4, tr_loss=0.369, val_loss=0.564, auc=0.637, cal=5.762, 10.08s\n",
      "e:  2/ 2, b:  1/ 4, tr_loss=0.245, val_loss=0.520, auc=0.654, cal=4.286, 10.81s\n",
      "e:  2/ 2, b:  2/ 4, tr_loss=0.175, val_loss=0.484, auc=0.675, cal=3.199, 10.68s\n",
      "e:  2/ 2, b:  3/ 4, tr_loss=0.132, val_loss=0.454, auc=0.697, cal=2.412, 10.52s\n",
      "e:  2/ 2, b:  4/ 4, tr_loss=0.104, val_loss=0.430, auc=0.717, cal=1.854, 10.13s\n",
      "Finished Training\n"
     ]
    }
   ],
   "source": [
    "train_loss = 0\n",
    "val_loss = 0\n",
    "scale = 10e5\n",
    "mean_val_loss, val_auc, val_cal = [], [], []\n",
    "for t in range(epochs):\n",
    "    epochrandvec=torch.randperm(len(y_train))\n",
    "    x_train = x_train[epochrandvec,:]\n",
    "    y_train = y_train[epochrandvec]\n",
    "    w_train = w_train[epochrandvec]\n",
    "    \n",
    "    for i in range(num_batches):\n",
    "        start_time = time.time()\n",
    "        indvec = torch.LongTensor(list(range((i)*batch_size, (i)*batch_size+batch_size)))\n",
    "        x_batch = x_train[indvec]\n",
    "        y_batch = y_train[indvec]\n",
    "        criterion.weight = w_train[indvec]\n",
    "        \n",
    "        x_sparse = x_batch[:,sparse_col]\n",
    "        x_dense = x_batch[:,dense_col]\n",
    "\n",
    "        #initialize\n",
    "        optimizer.zero_grad()\n",
    "        \n",
    "        # forward + backward + optimize\n",
    "        trainOutputs = DCNnet(x_batch)\n",
    "        loss = criterion(trainOutputs.squeeze(), y_batch)\n",
    "        train_loss = scale*loss.item()\n",
    "        \n",
    "        #Update Network\n",
    "        loss.backward()\n",
    "        optimizer.step()\n",
    "\n",
    "        #evaluation metrics\n",
    "        valOutputs = DCNnet(x_val)\n",
    "        criterion.weight = w_val\n",
    "        val_loss += scale*criterion(valOutputs.squeeze(), y_val).item()\n",
    "        mean_val_loss.append(val_loss/((i+1+t*num_batches)*x_val.shape[0]))\n",
    "        val_auc.append(roc_auc_score(y_val.data.numpy(), valOutputs.data.numpy(), sample_weight=w_val))\n",
    "        val_cal.append((valOutputs.squeeze().mul(w_val).sum() / y_val.mul(w_val).sum()).item())\n",
    "        \n",
    "        end_time = time.time()\n",
    "        elapsed = end_time - start_time\n",
    "        print(\"e: %2d/%2d, b: %2d/%2d, tr_loss=%.3f, val_loss=%.3f, auc=%.3f, cal=%.3f, %.2fs\"%\n",
    "              (t+1, epochs, i+1, num_batches, \n",
    "               train_loss/(batch_size*(i+1+t*num_batches)), mean_val_loss[-1], \n",
    "               val_auc[-1], val_cal[-1], elapsed))\n",
    "    \n",
    "print('Finished Training')"
   ]
  },
  {
   "cell_type": "markdown",
   "metadata": {},
   "source": [
    "## Calculate AUC and calibration metrics"
   ]
  },
  {
   "cell_type": "code",
   "execution_count": 33,
   "metadata": {},
   "outputs": [
    {
     "name": "stdout",
     "output_type": "stream",
     "text": [
      "train:\n",
      "number of observations = 600000\n",
      "\tAUC = 0.7157\n",
      "\tCalibration = 1.8829\n",
      "\tctrpm = 18.23\n",
      "val:\n",
      "number of observations = 400000\n",
      "\tAUC = 0.7170\n",
      "\tCalibration = 1.8540\n",
      "\tctrpm = 18.59\n"
     ]
    }
   ],
   "source": [
    "for data in [[x_train, y_train, w_train, 'train'], [x_val, y_val, w_val, 'val']]:\n",
    "    probs = DCNnet(data[0]).squeeze()\n",
    "    sample_weight = data[2].data.numpy()\n",
    "    print(data[3]+':')\n",
    "    print(\"number of observations = %d\"%(len(data[1].data.numpy())))\n",
    "    print(\"\\tAUC = %.4f\"%(roc_auc_score(data[1].data.numpy(), probs.data.numpy(), sample_weight=sample_weight)))\n",
    "    print(\"\\tCalibration = %.4f\"%((probs.mul(data[2]).sum()/data[1].mul(data[2]).sum()).item()))\n",
    "    print(\"\\tctrpm = %.2f\"%(1000*data[1].mul(data[2]).sum()/data[1].mul(data[2]).shape[0]))"
   ]
  },
  {
   "cell_type": "code",
   "execution_count": 34,
   "metadata": {},
   "outputs": [
    {
     "data": {
      "text/plain": [
       "<matplotlib.legend.Legend at 0x7fd2c2f6edd8>"
      ]
     },
     "execution_count": 34,
     "metadata": {},
     "output_type": "execute_result"
    },
    {
     "data": {
      "image/png": "[encoded data removed]",
      "text/plain": [
       "<Figure size 864x864 with 4 Axes>"
      ]
     },
     "metadata": {},
     "output_type": "display_data"
    }
   ],
   "source": [
    "plt.figure(figsize=(12,12))\n",
    "plt.subplot(2,2,1)\n",
    "plt.plot(mean_val_loss, label='validation loss', marker='o')\n",
    "plt.legend()\n",
    "plt.subplot(2,2,2)\n",
    "plt.plot(probs.data.numpy(), y_val.data.numpy(), 'o')\n",
    "plt.subplot(2,2,3)\n",
    "plt.plot(val_auc, 'o-', label='auc')\n",
    "plt.legend()\n",
    "plt.subplot(2,2,4)\n",
    "plt.plot(val_cal, 'o-', label='calibration')\n",
    "plt.ylim([2,5])\n",
    "plt.legend()"
   ]
  },
  {
   "cell_type": "markdown",
   "metadata": {},
   "source": [
    "## Export model with onnx"
   ]
  },
  {
   "cell_type": "code",
   "execution_count": null,
   "metadata": {},
   "outputs": [],
   "source": [
    "from tensorboardX import SummaryWriter\n",
    "\n",
    "# writer = SummaryWriter(comment='testing')\n",
    "# writer.add_graph(DCNnet, , verbose=False)\n",
    "dummy_input = x_val\n",
    "torch.onnx.export(DCNnet, dummy_input, 'dcnet.onnx', verbose=False)"
   ]
  },
  {
   "cell_type": "code",
   "execution_count": null,
   "metadata": {},
   "outputs": [],
   "source": []
  }
 ],
 "metadata": {
  "kernelspec": {
   "display_name": "Python 3",
   "language": "python",
   "name": "python3"
  },
  "language_info": {
   "codemirror_mode": {
    "name": "ipython",
    "version": 3
   },
   "file_extension": ".py",
   "mimetype": "text/x-python",
   "name": "python",
   "nbconvert_exporter": "python",
   "pygments_lexer": "ipython3",
   "version": "3.6.5"
  }
 },
 "nbformat": 4,
 "nbformat_minor": 2
}
